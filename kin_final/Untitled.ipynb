{
 "cells": [
  {
   "cell_type": "code",
   "execution_count": 1,
   "metadata": {},
   "outputs": [
    {
     "name": "stdout",
     "output_type": "stream",
     "text": [
      "Namespace(batch_size=20, cell_size_l1=50, cell_size_l2=40, embed_size=256, epochs=20, filter_size=32, iteration='0', kernel_size=3, max_features=11200, mode='train', pause=0, prob_dropout=0.4, prob_dropout2=0.2, random_state=55, strmaxlen=80, test_size=0.05, validation=False, verbose=2)\n",
      "Epoch 1/20\n",
      " - 9s - loss: 2.7585 - dense_1_loss: 0.6715 - dense_2_loss: 0.6646 - dense_3_loss: 0.6751 - dense_4_loss: 0.6802 - average_1_loss: 0.6717 - dense_1_acc: 0.6606 - dense_2_acc: 0.6697 - dense_3_acc: 0.6055 - dense_4_acc: 0.5688 - average_1_acc: 0.6514\n",
      "Epoch 2/20\n",
      " - 0s - loss: 2.5863 - dense_1_loss: 0.6361 - dense_2_loss: 0.6293 - dense_3_loss: 0.6262 - dense_4_loss: 0.6317 - average_1_loss: 0.6302 - dense_1_acc: 0.6697 - dense_2_acc: 0.6697 - dense_3_acc: 0.6697 - dense_4_acc: 0.6697 - average_1_acc: 0.6697\n",
      "Epoch 3/20\n",
      " - 0s - loss: 2.5342 - dense_1_loss: 0.6160 - dense_2_loss: 0.6133 - dense_3_loss: 0.6214 - dense_4_loss: 0.6216 - average_1_loss: 0.6171 - dense_1_acc: 0.6697 - dense_2_acc: 0.6697 - dense_3_acc: 0.6697 - dense_4_acc: 0.6697 - average_1_acc: 0.6697\n",
      "Epoch 4/20\n",
      " - 0s - loss: 2.3363 - dense_1_loss: 0.5778 - dense_2_loss: 0.5723 - dense_3_loss: 0.5605 - dense_4_loss: 0.5688 - average_1_loss: 0.5687 - dense_1_acc: 0.6697 - dense_2_acc: 0.6697 - dense_3_acc: 0.6881 - dense_4_acc: 0.6697 - average_1_acc: 0.6697\n",
      "Epoch 5/20\n",
      " - 0s - loss: 2.0194 - dense_1_loss: 0.4835 - dense_2_loss: 0.4949 - dense_3_loss: 0.4890 - dense_4_loss: 0.5031 - average_1_loss: 0.4893 - dense_1_acc: 0.7890 - dense_2_acc: 0.7615 - dense_3_acc: 0.8073 - dense_4_acc: 0.7615 - average_1_acc: 0.7890\n",
      "Epoch 6/20\n",
      " - 0s - loss: 1.5960 - dense_1_loss: 0.3832 - dense_2_loss: 0.3868 - dense_3_loss: 0.3817 - dense_4_loss: 0.4062 - average_1_loss: 0.3817 - dense_1_acc: 0.8899 - dense_2_acc: 0.8899 - dense_3_acc: 0.8716 - dense_4_acc: 0.8440 - average_1_acc: 0.8807\n",
      "Epoch 7/20\n",
      " - 0s - loss: 1.5785 - dense_1_loss: 0.3835 - dense_2_loss: 0.4050 - dense_3_loss: 0.3925 - dense_4_loss: 0.3602 - average_1_loss: 0.3730 - dense_1_acc: 0.8257 - dense_2_acc: 0.8257 - dense_3_acc: 0.8349 - dense_4_acc: 0.8349 - average_1_acc: 0.8349\n",
      "Epoch 8/20\n",
      " - 0s - loss: 1.4445 - dense_1_loss: 0.3360 - dense_2_loss: 0.3477 - dense_3_loss: 0.3734 - dense_4_loss: 0.3527 - average_1_loss: 0.3467 - dense_1_acc: 0.8991 - dense_2_acc: 0.8991 - dense_3_acc: 0.8624 - dense_4_acc: 0.8624 - average_1_acc: 0.8807\n",
      "Epoch 9/20\n",
      " - 0s - loss: 1.3302 - dense_1_loss: 0.3079 - dense_2_loss: 0.3193 - dense_3_loss: 0.3333 - dense_4_loss: 0.3378 - average_1_loss: 0.3190 - dense_1_acc: 0.8624 - dense_2_acc: 0.8532 - dense_3_acc: 0.8716 - dense_4_acc: 0.8532 - average_1_acc: 0.8532\n",
      "Epoch 10/20\n",
      " - 0s - loss: 1.2088 - dense_1_loss: 0.2806 - dense_2_loss: 0.2838 - dense_3_loss: 0.3085 - dense_4_loss: 0.3071 - average_1_loss: 0.2887 - dense_1_acc: 0.8807 - dense_2_acc: 0.8807 - dense_3_acc: 0.8716 - dense_4_acc: 0.8716 - average_1_acc: 0.8624\n",
      "Epoch 11/20\n",
      " - 0s - loss: 1.0970 - dense_1_loss: 0.2470 - dense_2_loss: 0.2621 - dense_3_loss: 0.2731 - dense_4_loss: 0.2886 - average_1_loss: 0.2622 - dense_1_acc: 0.8991 - dense_2_acc: 0.8991 - dense_3_acc: 0.8807 - dense_4_acc: 0.8807 - average_1_acc: 0.8899\n",
      "Epoch 12/20\n",
      " - 0s - loss: 0.8171 - dense_1_loss: 0.1608 - dense_2_loss: 0.1655 - dense_3_loss: 0.2262 - dense_4_loss: 0.2455 - average_1_loss: 0.1903 - dense_1_acc: 0.9633 - dense_2_acc: 0.9633 - dense_3_acc: 0.9450 - dense_4_acc: 0.9174 - average_1_acc: 0.9633\n",
      "Epoch 13/20\n",
      " - 0s - loss: 0.7087 - dense_1_loss: 0.1333 - dense_2_loss: 0.1325 - dense_3_loss: 0.2067 - dense_4_loss: 0.2198 - average_1_loss: 0.1641 - dense_1_acc: 0.9450 - dense_2_acc: 0.9633 - dense_3_acc: 0.9450 - dense_4_acc: 0.9541 - average_1_acc: 0.9633\n",
      "Epoch 14/20\n",
      " - 0s - loss: 0.5161 - dense_1_loss: 0.1112 - dense_2_loss: 0.1062 - dense_3_loss: 0.1282 - dense_4_loss: 0.1585 - average_1_loss: 0.1200 - dense_1_acc: 0.9541 - dense_2_acc: 0.9541 - dense_3_acc: 0.9541 - dense_4_acc: 0.9450 - average_1_acc: 0.9541\n",
      "Epoch 15/20\n",
      " - 0s - loss: 0.5316 - dense_1_loss: 0.1754 - dense_2_loss: 0.1481 - dense_3_loss: 0.0899 - dense_4_loss: 0.1085 - average_1_loss: 0.0965 - dense_1_acc: 0.9541 - dense_2_acc: 0.9541 - dense_3_acc: 0.9817 - dense_4_acc: 0.9817 - average_1_acc: 0.9817\n",
      "Epoch 16/20\n",
      " - 0s - loss: 0.3589 - dense_1_loss: 0.0970 - dense_2_loss: 0.1203 - dense_3_loss: 0.0553 - dense_4_loss: 0.0785 - average_1_loss: 0.0784 - dense_1_acc: 0.9541 - dense_2_acc: 0.9358 - dense_3_acc: 0.9908 - dense_4_acc: 0.9817 - average_1_acc: 0.9817\n",
      "Epoch 17/20\n",
      " - 0s - loss: 0.2653 - dense_1_loss: 0.0455 - dense_2_loss: 0.0506 - dense_3_loss: 0.0487 - dense_4_loss: 0.1156 - average_1_loss: 0.0492 - dense_1_acc: 0.9908 - dense_2_acc: 0.9908 - dense_3_acc: 0.9908 - dense_4_acc: 0.9725 - average_1_acc: 0.9908\n",
      "Epoch 18/20\n",
      " - 0s - loss: 0.1393 - dense_1_loss: 0.0249 - dense_2_loss: 0.0299 - dense_3_loss: 0.0247 - dense_4_loss: 0.0568 - average_1_loss: 0.0307 - dense_1_acc: 0.9908 - dense_2_acc: 0.9908 - dense_3_acc: 0.9908 - dense_4_acc: 0.9817 - average_1_acc: 0.9908\n",
      "Epoch 19/20\n",
      " - 0s - loss: 0.0951 - dense_1_loss: 0.0069 - dense_2_loss: 0.0081 - dense_3_loss: 0.0308 - dense_4_loss: 0.0475 - average_1_loss: 0.0176 - dense_1_acc: 1.0000 - dense_2_acc: 1.0000 - dense_3_acc: 0.9817 - dense_4_acc: 0.9725 - average_1_acc: 1.0000\n",
      "Epoch 20/20\n",
      " - 0s - loss: 0.0361 - dense_1_loss: 0.0055 - dense_2_loss: 0.0071 - dense_3_loss: 0.0034 - dense_4_loss: 0.0194 - average_1_loss: 0.0081 - dense_1_acc: 1.0000 - dense_2_acc: 1.0000 - dense_3_acc: 1.0000 - dense_4_acc: 1.0000 - average_1_acc: 1.0000\n"
     ]
    },
    {
     "name": "stderr",
     "output_type": "stream",
     "text": [
      "2018-05-21 16:47:33.994815: I T:\\src\\github\\tensorflow\\tensorflow\\core\\platform\\cpu_feature_guard.cc:140] Your CPU supports instructions that this TensorFlow binary was not compiled to use: AVX2\n",
      "2018-05-21 16:47:34.326420: I T:\\src\\github\\tensorflow\\tensorflow\\core\\common_runtime\\gpu\\gpu_device.cc:1356] Found device 0 with properties: \n",
      "name: GeForce GTX 1080 Ti major: 6 minor: 1 memoryClockRate(GHz): 1.683\n",
      "pciBusID: 0000:01:00.0\n",
      "totalMemory: 11.00GiB freeMemory: 9.08GiB\n",
      "2018-05-21 16:47:34.326681: I T:\\src\\github\\tensorflow\\tensorflow\\core\\common_runtime\\gpu\\gpu_device.cc:1435] Adding visible gpu devices: 0\n",
      "2018-05-21 16:47:36.174040: I T:\\src\\github\\tensorflow\\tensorflow\\core\\common_runtime\\gpu\\gpu_device.cc:923] Device interconnect StreamExecutor with strength 1 edge matrix:\n",
      "2018-05-21 16:47:36.174192: I T:\\src\\github\\tensorflow\\tensorflow\\core\\common_runtime\\gpu\\gpu_device.cc:929]      0 \n",
      "2018-05-21 16:47:36.174315: I T:\\src\\github\\tensorflow\\tensorflow\\core\\common_runtime\\gpu\\gpu_device.cc:942] 0:   N \n",
      "2018-05-21 16:47:36.175348: I T:\\src\\github\\tensorflow\\tensorflow\\core\\common_runtime\\gpu\\gpu_device.cc:1053] Created TensorFlow device (/job:localhost/replica:0/task:0/device:GPU:0 with 8792 MB memory) -> physical GPU (device: 0, name: GeForce GTX 1080 Ti, pci bus id: 0000:01:00.0, compute capability: 6.1)\n",
      "C:\\Users\\timmy\\Anaconda3\\lib\\site-packages\\h5py\\__init__.py:36: FutureWarning: Conversion of the second argument of issubdtype from `float` to `np.floating` is deprecated. In future, it will be treated as `np.float64 == np.dtype(float).type`.\n",
      "  from ._conv import register_converters as _register_converters\n",
      "Using TensorFlow backend.\n"
     ]
    }
   ],
   "source": [
    "!python main.py"
   ]
  },
  {
   "cell_type": "code",
   "execution_count": 5,
   "metadata": {},
   "outputs": [],
   "source": [
    "import konlpy"
   ]
  },
  {
   "cell_type": "code",
   "execution_count": 8,
   "metadata": {},
   "outputs": [
    {
     "ename": "JVMNotFoundException",
     "evalue": "No JVM shared library file (jvm.dll) found. Try setting up the JAVA_HOME environment variable properly.",
     "output_type": "error",
     "traceback": [
      "\u001b[1;31m---------------------------------------------------------------------------\u001b[0m",
      "\u001b[1;31mJVMNotFoundException\u001b[0m                      Traceback (most recent call last)",
      "\u001b[1;32m<ipython-input-8-3aaa27094527>\u001b[0m in \u001b[0;36m<module>\u001b[1;34m()\u001b[0m\n\u001b[1;32m----> 1\u001b[1;33m \u001b[0mkonlpy\u001b[0m\u001b[1;33m.\u001b[0m\u001b[0mtag\u001b[0m\u001b[1;33m.\u001b[0m\u001b[0mKkma\u001b[0m\u001b[1;33m(\u001b[0m\u001b[1;33m)\u001b[0m\u001b[1;33m\u001b[0m\u001b[0m\n\u001b[0m",
      "\u001b[1;32mc:\\users\\timmy\\anaconda3\\lib\\site-packages\\konlpy\\tag\\_kkma.py\u001b[0m in \u001b[0;36m__init__\u001b[1;34m(self, jvmpath)\u001b[0m\n\u001b[0;32m     85\u001b[0m     \u001b[1;32mdef\u001b[0m \u001b[0m__init__\u001b[0m\u001b[1;33m(\u001b[0m\u001b[0mself\u001b[0m\u001b[1;33m,\u001b[0m \u001b[0mjvmpath\u001b[0m\u001b[1;33m=\u001b[0m\u001b[1;32mNone\u001b[0m\u001b[1;33m)\u001b[0m\u001b[1;33m:\u001b[0m\u001b[1;33m\u001b[0m\u001b[0m\n\u001b[0;32m     86\u001b[0m         \u001b[1;32mif\u001b[0m \u001b[1;32mnot\u001b[0m \u001b[0mjpype\u001b[0m\u001b[1;33m.\u001b[0m\u001b[0misJVMStarted\u001b[0m\u001b[1;33m(\u001b[0m\u001b[1;33m)\u001b[0m\u001b[1;33m:\u001b[0m\u001b[1;33m\u001b[0m\u001b[0m\n\u001b[1;32m---> 87\u001b[1;33m             \u001b[0mjvm\u001b[0m\u001b[1;33m.\u001b[0m\u001b[0minit_jvm\u001b[0m\u001b[1;33m(\u001b[0m\u001b[0mjvmpath\u001b[0m\u001b[1;33m)\u001b[0m\u001b[1;33m\u001b[0m\u001b[0m\n\u001b[0m\u001b[0;32m     88\u001b[0m \u001b[1;33m\u001b[0m\u001b[0m\n\u001b[0;32m     89\u001b[0m         \u001b[0mkkmaJavaPackage\u001b[0m \u001b[1;33m=\u001b[0m \u001b[0mjpype\u001b[0m\u001b[1;33m.\u001b[0m\u001b[0mJPackage\u001b[0m\u001b[1;33m(\u001b[0m\u001b[1;34m'kr.lucypark.kkma'\u001b[0m\u001b[1;33m)\u001b[0m\u001b[1;33m\u001b[0m\u001b[0m\n",
      "\u001b[1;32mc:\\users\\timmy\\anaconda3\\lib\\site-packages\\konlpy\\jvm.py\u001b[0m in \u001b[0;36minit_jvm\u001b[1;34m(jvmpath)\u001b[0m\n\u001b[0;32m     38\u001b[0m     \u001b[0mclasspath\u001b[0m \u001b[1;33m=\u001b[0m \u001b[0mos\u001b[0m\u001b[1;33m.\u001b[0m\u001b[0mpathsep\u001b[0m\u001b[1;33m.\u001b[0m\u001b[0mjoin\u001b[0m\u001b[1;33m(\u001b[0m\u001b[0mf\u001b[0m\u001b[1;33m.\u001b[0m\u001b[0mformat\u001b[0m\u001b[1;33m(\u001b[0m\u001b[1;33m*\u001b[0m\u001b[0margs\u001b[0m\u001b[1;33m)\u001b[0m \u001b[1;32mfor\u001b[0m \u001b[0mf\u001b[0m \u001b[1;32min\u001b[0m \u001b[0mfolder_suffix\u001b[0m\u001b[1;33m)\u001b[0m\u001b[1;33m\u001b[0m\u001b[0m\n\u001b[0;32m     39\u001b[0m \u001b[1;33m\u001b[0m\u001b[0m\n\u001b[1;32m---> 40\u001b[1;33m     \u001b[0mjvmpath\u001b[0m \u001b[1;33m=\u001b[0m \u001b[0mjvmpath\u001b[0m \u001b[1;32mor\u001b[0m \u001b[0mjpype\u001b[0m\u001b[1;33m.\u001b[0m\u001b[0mgetDefaultJVMPath\u001b[0m\u001b[1;33m(\u001b[0m\u001b[1;33m)\u001b[0m\u001b[1;33m\u001b[0m\u001b[0m\n\u001b[0m\u001b[0;32m     41\u001b[0m \u001b[1;33m\u001b[0m\u001b[0m\n\u001b[0;32m     42\u001b[0m     \u001b[1;31m# NOTE: Temporary patch for Issue #76. Erase when possible.\u001b[0m\u001b[1;33m\u001b[0m\u001b[1;33m\u001b[0m\u001b[0m\n",
      "\u001b[1;32mc:\\users\\timmy\\anaconda3\\lib\\site-packages\\jpype\\_core.py\u001b[0m in \u001b[0;36mget_default_jvm_path\u001b[1;34m()\u001b[0m\n\u001b[0;32m    119\u001b[0m         \u001b[0mfinder\u001b[0m \u001b[1;33m=\u001b[0m \u001b[0mLinuxJVMFinder\u001b[0m\u001b[1;33m(\u001b[0m\u001b[1;33m)\u001b[0m\u001b[1;33m\u001b[0m\u001b[0m\n\u001b[0;32m    120\u001b[0m \u001b[1;33m\u001b[0m\u001b[0m\n\u001b[1;32m--> 121\u001b[1;33m     \u001b[1;32mreturn\u001b[0m \u001b[0mfinder\u001b[0m\u001b[1;33m.\u001b[0m\u001b[0mget_jvm_path\u001b[0m\u001b[1;33m(\u001b[0m\u001b[1;33m)\u001b[0m\u001b[1;33m\u001b[0m\u001b[0m\n\u001b[0m\u001b[0;32m    122\u001b[0m \u001b[1;33m\u001b[0m\u001b[0m\n\u001b[0;32m    123\u001b[0m \u001b[1;31m# Naming compatibility\u001b[0m\u001b[1;33m\u001b[0m\u001b[1;33m\u001b[0m\u001b[0m\n",
      "\u001b[1;32mc:\\users\\timmy\\anaconda3\\lib\\site-packages\\jpype\\_jvmfinder.py\u001b[0m in \u001b[0;36mget_jvm_path\u001b[1;34m(self)\u001b[0m\n\u001b[0;32m    151\u001b[0m                                        \u001b[1;34m\"found. Try setting up the JAVA_HOME \"\u001b[0m\u001b[1;33m\u001b[0m\u001b[0m\n\u001b[0;32m    152\u001b[0m                                        \u001b[1;34m\"environment variable properly.\"\u001b[0m\u001b[1;33m\u001b[0m\u001b[0m\n\u001b[1;32m--> 153\u001b[1;33m                                        .format(self._libfile))\n\u001b[0m\u001b[0;32m    154\u001b[0m \u001b[1;33m\u001b[0m\u001b[0m\n\u001b[0;32m    155\u001b[0m \u001b[1;33m\u001b[0m\u001b[0m\n",
      "\u001b[1;31mJVMNotFoundException\u001b[0m: No JVM shared library file (jvm.dll) found. Try setting up the JAVA_HOME environment variable properly."
     ]
    }
   ],
   "source": [
    "konlpy.tag.Kkma()"
   ]
  },
  {
   "cell_type": "code",
   "execution_count": null,
   "metadata": {},
   "outputs": [],
   "source": []
  }
 ],
 "metadata": {
  "kernelspec": {
   "display_name": "Python 3",
   "language": "python",
   "name": "python3"
  },
  "language_info": {
   "codemirror_mode": {
    "name": "ipython",
    "version": 3
   },
   "file_extension": ".py",
   "mimetype": "text/x-python",
   "name": "python",
   "nbconvert_exporter": "python",
   "pygments_lexer": "ipython3",
   "version": "3.6.4"
  }
 },
 "nbformat": 4,
 "nbformat_minor": 2
}
