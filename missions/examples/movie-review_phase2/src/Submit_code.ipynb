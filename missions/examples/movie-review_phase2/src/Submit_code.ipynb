{
 "cells": [
  {
   "cell_type": "code",
   "execution_count": null,
   "metadata": {},
   "outputs": [],
   "source": [
    "import time\n",
    "delay= 180\n",
    "!nsml submit kimmintae/movie_phase2/10 12\n",
    "time.sleep(delay)\n",
    "!nsml submit kimmintae/movie_phase2/10 13\n",
    "time.sleep(delay)\n",
    "!nsml submit kimmintae/movie_phase2/10 14\n",
    "time.sleep(delay)\n",
    "!nsml submit kimmintae/movie_phase2/10 15\n",
    "time.sleep(delay)\n",
    "!nsml submit kimmintae/movie_phase2/10 16\n",
    "time.sleep(delay)\n",
    "!nsml submit kimmintae/movie_phase2/10 17\n",
    "time.sleep(delay)\n",
    "!nsml submit kimmintae/movie_phase2/10 18\n",
    "time.sleep(delay)\n",
    "!nsml submit kimmintae/movie_phase2/10 19\n",
    "\n",
    "!nsml stop kimmintae/movie_phase2/10"
   ]
  },
  {
   "cell_type": "code",
   "execution_count": null,
   "metadata": {},
   "outputs": [],
   "source": []
  }
 ],
 "metadata": {
  "kernelspec": {
   "display_name": "Python 3",
   "language": "python",
   "name": "python3"
  },
  "language_info": {
   "codemirror_mode": {
    "name": "ipython",
    "version": 3
   },
   "file_extension": ".py",
   "mimetype": "text/x-python",
   "name": "python",
   "nbconvert_exporter": "python",
   "pygments_lexer": "ipython3",
   "version": "3.6.4"
  }
 },
 "nbformat": 4,
 "nbformat_minor": 2
}
